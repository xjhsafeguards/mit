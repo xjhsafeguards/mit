{
 "cells": [
  {
   "cell_type": "markdown",
   "metadata": {},
   "source": [
    "This is the python file to analyze trajectories from MD"
   ]
  },
  {
   "cell_type": "code",
   "execution_count": null,
   "metadata": {
    "scrolled": true
   },
   "outputs": [],
   "source": [
    "import scipy as sc\n",
    "import scipy.stats\n",
    "import numpy as np\n",
    "import matplotlib.pyplot as plt\n",
    "from ase import io\n",
    "from ase.units import *\n",
    "import ase"
   ]
  },
  {
   "cell_type": "code",
   "execution_count": null,
   "metadata": {
    "scrolled": true
   },
   "outputs": [],
   "source": [
    "#from ase import io\n",
    "#from ase.units import *\n",
    "#snap1 = ase.io.read(\"../../../Study/1Cl/nvt/pimd/data.pos_0.xyz\",':')\n",
    "#ase.io.write('slab.png', snap1[0]) #rotation='10z,-80x')\n",
    "#snap1[0].get_cell()\n",
    "#snap1[0].set_cell([12.4,12.4,12.4],scale_atoms=True)\n",
    "#snap1[0].set_pbc(111)\n",
    "#snap1[0].get_distances(0,2,vector=True)\n",
    "#snap1[0].get_positions()\n",
    "\n",
    "#test.info\n",
    "#test.get_masses()\n",
    "#test.get_atomic_numbers()\n",
    "#np.zeros([3,3],np.int_)\n",
    "#test.wrap()\n",
    "#test.get_scaled_positions()\n",
    "#test.wrap(test.get_scaled_positions()[0])\n",
    "#ase.io.write('test.xyz',test)"
   ]
  },
  {
   "cell_type": "code",
   "execution_count": null,
   "metadata": {},
   "outputs": [],
   "source": [
    "#write qe cl output to xyz\n",
    "\"\"\"\n",
    "with open(\"../../../Study/1Cl/nvt/bomd/cl.pos\",'r') as ifs:\n",
    "    with open(\"../../../Study/1Cl/nvt/bomd/cl.xyz\",'w') as ofs:\n",
    "        label = [\"Cl\"] + [\"O\"]*63 + [\"H\"]*126\n",
    "        count = 0\n",
    "        for line in ifs.readlines():\n",
    "            if len(line.split()) == 2:\n",
    "                ofs.write(\"190\\n\")\n",
    "                ofs.write(\"#\" + line)\n",
    "                count = 0\n",
    "            else:\n",
    "                ofs.write(label[count]+\" \")\n",
    "                ofs.write(line)\n",
    "                count += 1\n",
    "\"\"\"   "
   ]
  },
  {
   "cell_type": "markdown",
   "metadata": {},
   "source": [
    "# Load files"
   ]
  },
  {
   "cell_type": "code",
   "execution_count": null,
   "metadata": {
    "scrolled": true
   },
   "outputs": [],
   "source": [
    "#read in quantum snapshots\n",
    "snap = []\n",
    "for i in range(0,8):\n",
    "    print(\"Reading\", i)\n",
    "    snap.append(ase.io.read(\"../../../Study/1Cl/nvt/pimd/data.pos_\"+str(i)+\".xyz\",'10000:33000:5'))"
   ]
  },
  {
   "cell_type": "code",
   "execution_count": null,
   "metadata": {},
   "outputs": [],
   "source": [
    "#read in classical snapshots\n",
    "snap_c = ase.io.read(\"../../../Study/1Cl/nvt/bomd/cl.xyz\",'10000:81000:5')"
   ]
  },
  {
   "cell_type": "code",
   "execution_count": null,
   "metadata": {
    "scrolled": true
   },
   "outputs": [],
   "source": [
    "#set pbc and cell, change the unit of positions to angstrom\n",
    "for beads in snap:\n",
    "    for sn in beads:\n",
    "        sn.set_pbc(111)\n",
    "        sn.set_cell([23.47*Bohr,23.47*Bohr,23.47*Bohr])\n",
    "        sn.set_positions(sn.get_positions()*Bohr)"
   ]
  },
  {
   "cell_type": "code",
   "execution_count": null,
   "metadata": {},
   "outputs": [],
   "source": [
    "for sn in snap_c:\n",
    "        sn.set_pbc(111)\n",
    "        sn.set_cell([23.47*Bohr,23.47*Bohr,23.47*Bohr])\n",
    "        sn.set_positions(sn.get_positions()*Bohr)"
   ]
  },
  {
   "cell_type": "code",
   "execution_count": null,
   "metadata": {
    "scrolled": true
   },
   "outputs": [],
   "source": [
    "test = snap_c[0].copy()\n",
    "test.wrap(test.get_scaled_positions()[0])\n",
    "test.write('test.xyz')"
   ]
  },
  {
   "cell_type": "markdown",
   "metadata": {},
   "source": [
    "# G_ClO"
   ]
  },
  {
   "cell_type": "code",
   "execution_count": 829,
   "metadata": {},
   "outputs": [],
   "source": [
    "#calculate rdf_classic\n",
    "rdf,edges = np.histogram([],500,(0,6))\n",
    "boxvolume = 0.\n",
    "numframes = 0.\n",
    "pointscount = 0.\n",
    "\n",
    "for sn in snap_c:\n",
    "    O = np.where(sn.get_atomic_numbers()==8)[0]\n",
    "    rdf_data = sn.get_distances(0,O,mic=True)\n",
    "    boxvolume += sn.get_volume()\n",
    "    numframes += 1\n",
    "    pointscount += len(rdf_data)\n",
    "    rdf+=np.histogram(rdf_data,500,(0,6))[0]\n",
    "\n",
    "rdf.astype(np.float64)\n",
    "radii = 0.5 * (edges[1:] + edges[:-1])\n",
    "vol = (4. / 3.) * np.pi * (np.power(edges[1:], 3) - np.power(edges[:-1], 3))\n",
    "# normalization to the average density n/boxvolume in the simulation\n",
    "G_ClO_c = rdf*boxvolume/numframes/pointscount/vol\n",
    "G_ClO_x = radii"
   ]
  },
  {
   "cell_type": "code",
   "execution_count": 830,
   "metadata": {},
   "outputs": [],
   "source": [
    "#calculate rdf_quantum\n",
    "rdf,edges = np.histogram([],500,(0,6))\n",
    "boxvolume = 0.\n",
    "numframes = 0.\n",
    "pointscount = 0.\n",
    "\n",
    "for beads in snap:\n",
    "    for sn in beads:\n",
    "        O = np.where(sn.get_atomic_numbers()==8)[0]\n",
    "        rdf_data = sn.get_distances(0,O,mic=True)\n",
    "        boxvolume += sn.get_volume()\n",
    "        numframes += 1\n",
    "        pointscount += len(rdf_data)\n",
    "        rdf+=np.histogram(rdf_data,500,(0,6))[0]\n",
    "\n",
    "rdf.astype(np.float64)\n",
    "radii = 0.5 * (edges[1:] + edges[:-1])\n",
    "vol = (4. / 3.) * np.pi * (np.power(edges[1:], 3) - np.power(edges[:-1], 3))\n",
    "# normalization to the average density n/boxvolume in the simulation\n",
    "G_ClO_q = rdf*boxvolume/numframes/pointscount/vol"
   ]
  },
  {
   "cell_type": "code",
   "execution_count": 515,
   "metadata": {},
   "outputs": [
    {
     "data": {
      "text/plain": [
       "[<matplotlib.lines.Line2D at 0x1a24a0b6a0>]"
      ]
     },
     "execution_count": 515,
     "metadata": {},
     "output_type": "execute_result"
    },
    {
     "data": {
      "image/png": "[encoded data removed]",
      "text/plain": [
       "<Figure size 432x288 with 1 Axes>"
      ]
     },
     "metadata": {
      "needs_background": "light"
     },
     "output_type": "display_data"
    }
   ],
   "source": [
    "plt.plot(radii,real_rdf)\n",
    "plt.plot(radii,real_rdf_q)"
   ]
  },
  {
   "cell_type": "markdown",
   "metadata": {},
   "source": [
    "# OClO angle"
   ]
  },
  {
   "cell_type": "code",
   "execution_count": 883,
   "metadata": {},
   "outputs": [],
   "source": [
    "rdf,edges = np.histogram([],500,(0,180))\n",
    "pointscount = 0.\n",
    "\n",
    "for sn in snap_c:\n",
    "    Os = range(1,64)\n",
    "    tmp = sn.get_distances(0,Os,mic=True)\n",
    "    Os = np.where(tmp<3.83)[0]+1\n",
    "    angles = sn.get_angles(np.insert(np.asarray(list(itertools.combinations(Os,2))),1,0,axis=1),mic=True)\n",
    "    rdf += np.histogram(angles,500,(0,180))[0]\n",
    "    pointscount += angles.size\n",
    "\n",
    "rdf.astype(np.float64)\n",
    "G_OClO_x = 0.5 * (edges[1:] + edges[:-1])\n",
    "vol = edges[1:] - edges[:-1]\n",
    "G_ClO_c = rdf/pointscount/vol\n",
    "\n",
    "rdf,edges = np.histogram([],500,(0,180))\n",
    "pointscount = 0.\n",
    "\n",
    "for beads in snap:\n",
    "    for sn in beads:\n",
    "        Os = range(1,64)\n",
    "        tmp = sn.get_distances(0,Os,mic=True)\n",
    "        Os = np.where(tmp<3.9)[0]+1\n",
    "        angles = sn.get_angles(np.insert(np.asarray(list(itertools.combinations(Os,2))),1,0,axis=1),mic=True)\n",
    "        rdf += np.histogram(angles,500,(0,180))[0]\n",
    "        pointscount += angles.size\n",
    "\n",
    "rdf.astype(np.float64)\n",
    "G_OClO_x = 0.5 * (edges[1:] + edges[:-1])\n",
    "vol = edges[1:] - edges[:-1]\n",
    "G_ClO_q = rdf/pointscount/vol"
   ]
  },
  {
   "cell_type": "code",
   "execution_count": 884,
   "metadata": {},
   "outputs": [
    {
     "data": {
      "text/plain": [
       "<matplotlib.legend.Legend at 0x1a286a1ef0>"
      ]
     },
     "execution_count": 884,
     "metadata": {},
     "output_type": "execute_result"
    },
    {
     "data": {
      "image/png": "[encoded data removed]",
      "text/plain": [
       "<Figure size 432x288 with 1 Axes>"
      ]
     },
     "metadata": {
      "needs_background": "light"
     },
     "output_type": "display_data"
    }
   ],
   "source": [
    "plt.plot(G_OClO_x,G_ClO_c,label=\"c\")\n",
    "plt.plot(G_OClO_x,G_ClO_q,label=\"q\")\n",
    "plt.legend()"
   ]
  },
  {
   "cell_type": "markdown",
   "metadata": {},
   "source": [
    "## seperate by CN"
   ]
  },
  {
   "cell_type": "code",
   "execution_count": 893,
   "metadata": {},
   "outputs": [
    {
     "name": "stderr",
     "output_type": "stream",
     "text": [
      "/usr/local/anaconda3/lib/python3.7/site-packages/ipykernel_launcher.py:25: RuntimeWarning: invalid value encountered in true_divide\n",
      "/usr/local/anaconda3/lib/python3.7/site-packages/ipykernel_launcher.py:46: RuntimeWarning: invalid value encountered in true_divide\n"
     ]
    }
   ],
   "source": [
    "#find snapshot with 4 115-125 angles\n",
    "rdf,edges = np.histogram([],500,(0,180))\n",
    "pointscount = 0.\n",
    "pointscounts = []\n",
    "rdfs = []\n",
    "for i in range(15):\n",
    "    rdfs.append(rdf.copy())\n",
    "    pointscounts.append(0)\n",
    "\n",
    "for sn in snap_c:\n",
    "    Os = range(1,64)\n",
    "    tmp = sn.get_distances(0,Os,mic=True)\n",
    "    Os = np.where(tmp<3.83)[0]+1\n",
    "    angles = sn.get_angles(np.insert(np.asarray(list(itertools.combinations(Os,2))),1,0,axis=1),mic=True)\n",
    "    nO = Os.size\n",
    "    if(nO<15):\n",
    "        rdfs[nO] += np.histogram(angles,500,(0,180))[0]\n",
    "        pointscounts[nO]  += angles.size\n",
    "\n",
    "rdf.astype(np.float64)\n",
    "G_OClO_x = 0.5 * (edges[1:] + edges[:-1])\n",
    "vol = edges[1:] - edges[:-1]\n",
    "G_ClO_cn_c = [] \n",
    "for i in range(15):\n",
    "    G_ClO_cn_c.append(rdfs[i]/pointscounts[i]/vol)\n",
    "\n",
    "pointscounts = []\n",
    "rdfs = []\n",
    "for i in range(15):\n",
    "    rdfs.append(rdf.copy())\n",
    "    pointscounts.append(0)\n",
    "\n",
    "for beads in snap:\n",
    "    for sn in beads:\n",
    "        Os = range(1,64)\n",
    "        tmp = sn.get_distances(0,Os,mic=True)\n",
    "        Os = np.where(tmp<3.9)[0]+1\n",
    "        angles = sn.get_angles(np.insert(np.asarray(list(itertools.combinations(Os,2))),1,0,axis=1),mic=True)\n",
    "        nO = Os.size\n",
    "        if(nO<15):\n",
    "            rdfs[nO] += np.histogram(angles,500,(0,180))[0]\n",
    "            pointscounts[nO]  += angles.size\n",
    "\n",
    "G_ClO_cn_q = [] \n",
    "for i in range(15):\n",
    "    G_ClO_cn_q.append(rdfs[i]/pointscounts[i]/vol)"
   ]
  },
  {
   "cell_type": "code",
   "execution_count": 901,
   "metadata": {},
   "outputs": [
    {
     "data": {
      "image/png": "[encoded data removed]",
      "text/plain": [
       "<Figure size 432x288 with 12 Axes>"
      ]
     },
     "metadata": {
      "needs_background": "light"
     },
     "output_type": "display_data"
    }
   ],
   "source": [
    "fig, ax = plt.subplots(4,3,sharex=True,sharey=True)\n",
    "plt.setp(ax, xticks=[0, 60, 120,180])\n",
    "for i in {0,1}:\n",
    "    for j in {0,1,2}:\n",
    "        ax[i,j].plot(G_OClO_x,G_ClO_cn_c[5+3*i+j],label=str(5+3*i+j)+'-c')\n",
    "        #ax[i,j].legend()\n",
    "        ax[i,j].set_ylim(0,0.025)\n",
    "        ax[i,j].set_xlim(0,180)\n",
    "for i in {2,3}:\n",
    "    for j in {0,1,2}:\n",
    "        ax[i,j].plot(G_OClO_x,G_ClO_cn_q[-1+3*i+j],label=str(-1+3*i+j)+'-q')\n",
    "        #ax[i,j].legend()\n",
    "        ax[i,j].set_ylim(0,0.025)\n",
    "        ax[i,j].set_xlim(0,180)\n",
    "#plt.setp(ax, xticks=[0.1, 0.5, 0.9], xticklabels=['a', 'b', 'c'],yticks=[1, 2, 3])"
   ]
  },
  {
   "cell_type": "markdown",
   "metadata": {},
   "source": [
    "# Proton transfer coordinate"
   ]
  },
  {
   "cell_type": "code",
   "execution_count": 939,
   "metadata": {},
   "outputs": [],
   "source": [
    "waters = np.concatenate((np.arange(1,64).reshape(63,1),np.arange(64,190,2).reshape(63,1),np.arange(65,190,2).reshape(63,1)),axis=1)\n",
    "\n",
    "rdf,edges = np.histogram([],500,(-4,0))\n",
    "pointscount = 0.\n",
    "\n",
    "for sn in snap_c:\n",
    "    Os = range(1,64)\n",
    "    tmp_dist = sn.get_all_distances(mic=True)\n",
    "    dOCl_all = tmp_dist[0][1:63]\n",
    "    #waters\n",
    "    Os = np.where(dOCl_all<3.83)[0]+1\n",
    "    H1s = Os*2 + 62\n",
    "    H2s = Os*2 + 63\n",
    "    #dOH1 - dClH1\n",
    "    rdf += np.histogram(tmp_dist[Os,H1s]-tmp_dist[0][H1s],500,(-4,0))[0]\n",
    "    rdf += np.histogram(tmp_dist[Os,H2s]-tmp_dist[0][H2s],500,(-4,0))[0]\n",
    "    pointscount += Os.size*2\n",
    "\n",
    "rdf.astype(np.float64)\n",
    "PTC_x = 0.5 * (edges[1:] + edges[:-1])\n",
    "vol = edges[1:] - edges[:-1]\n",
    "PTC_c = rdf/pointscount/vol\n",
    "\n",
    "rdf,edges = np.histogram([],500,(-4,0))\n",
    "pointscount = 0.\n",
    "\n",
    "for beads in snap:\n",
    "    for sn in beads:\n",
    "        Os = range(1,64)\n",
    "        tmp_dist = sn.get_all_distances(mic=True)\n",
    "        dOCl_all = tmp_dist[0][1:63]\n",
    "        #waters\n",
    "        Os = np.where(dOCl_all<3.9)[0]+1\n",
    "        H1s = Os*2 + 62\n",
    "        H2s = Os*2 + 63\n",
    "        #dOH1 - dClH1\n",
    "        rdf += np.histogram(tmp_dist[Os,H1s]-tmp_dist[0][H1s],500,(-4,0))[0]\n",
    "        rdf += np.histogram(tmp_dist[Os,H2s]-tmp_dist[0][H2s],500,(-4,0))[0]\n",
    "        pointscount += Os.size*2\n",
    "PTC_q = rdf/pointscount/vol"
   ]
  },
  {
   "cell_type": "code",
   "execution_count": 940,
   "metadata": {},
   "outputs": [
    {
     "data": {
      "text/plain": [
       "<matplotlib.legend.Legend at 0x1a28bc3780>"
      ]
     },
     "execution_count": 940,
     "metadata": {},
     "output_type": "execute_result"
    },
    {
     "data": {
      "image/png": "[encoded data removed]",
      "text/plain": [
       "<Figure size 432x288 with 1 Axes>"
      ]
     },
     "metadata": {
      "needs_background": "light"
     },
     "output_type": "display_data"
    }
   ],
   "source": [
    "plt.plot(PTC_x,PTC_c,label=\"c\")\n",
    "plt.plot(PTC_x,PTC_q,label=\"q\")\n",
    "plt.legend()"
   ]
  },
  {
   "cell_type": "markdown",
   "metadata": {},
   "source": [
    "# H-Bond"
   ]
  },
  {
   "cell_type": "markdown",
   "metadata": {},
   "source": [
    "## water - water H-bond"
   ]
  },
  {
   "cell_type": "code",
   "execution_count": 507,
   "metadata": {},
   "outputs": [
    {
     "data": {
      "text/plain": [
       "\"\\ndef donate_HB(sn,water1,water2):\\n        detect if water1's H donate to water2\\n    global HB_OO_cutoff,HB_HOO_cutoff\\n    if(0.1<sn.get_distance(water1[0],water2[0],mic=True)<HB_OO_cutoff):\\n        if(sn.get_angle(water1[1],water1[0],water2[0],mic=True)<HB_HOO_cutoff):\\n            return True\\n        if(sn.get_angle(water1[2],water1[0],water2[0],mic=True)<HB_HOO_cutoff):\\n            return True\\n        return False\\n    \\nfor sn in snap_c:\\n    ss_HB_a = np.zeros(63)\\n    ss_HB_d = np.zeros(63)\\n    sn.get_distance\\n    for water1 in waters:\\n        for water2 in waters:\\n            if(donate_HB(sn,water1,water2)):\\n                ss_HB_a[water2[0]-1] += 1\\n                ss_HB_d[water1[0]-1] += 1\\n    accept_DF += np.histogram(ss_HB_a,6,(0,6))[0]\\n    donate_DF += np.histogram(ss_HB_d,6,(0,6))[0]\\n    numaccept += ss_HB_a.mean()\\n    numdonate += ss_HB_d.mean()\\n    numframes += 1\\n    print(numframes)\\n\""
      ]
     },
     "execution_count": 507,
     "metadata": {},
     "output_type": "execute_result"
    }
   ],
   "source": [
    "#calculate bonding information \n",
    "#assuming ith(0-63) water is (1+i,64+i*2,65+i*2)\n",
    "HB_OO_cutoff = 3.5\n",
    "HB_HOO_cutoff = 30\n",
    "waters = np.concatenate((np.arange(1,64).reshape(63,1),np.arange(64,190,2).reshape(63,1),np.arange(65,190,2).reshape(63,1)),axis=1)\n",
    "numframes = 0.\n",
    "numdonate = 0.\n",
    "numaccept = 0.\n",
    "accept_DF,HB_edges = np.histogram([],6,(0,6))\n",
    "donate_DF,HB_edges = np.histogram([],6,(0,6))\n",
    "\n",
    "for sn in snap_c:\n",
    "    tmp_dist = sn.get_all_distances(mic=True)\n",
    "    #OO_cutoff\n",
    "    O1_t = np.where(tmp_dist[1:64,1:64]<HB_OO_cutoff)[0]\n",
    "    O2_t = np.where(tmp_dist[1:64,1:64]<HB_OO_cutoff)[1]\n",
    "    #avoid self angle\n",
    "    O1_t2 = O1_t[np.where(O1_t!=O2_t)]\n",
    "    O2_t2 = O2_t[np.where(O1_t!=O2_t)]\n",
    "    #O and H fit OO cutoff\n",
    "    H1 = waters[O1_t2,1]\n",
    "    H2 = waters[O1_t2,2]\n",
    "    O1 = waters[O1_t2,0]\n",
    "    O2 = waters[O2_t2,0]\n",
    "    length = len(O1)\n",
    "    #calculate angles for H1 and H2 in water O1\n",
    "    angles1 = sn.get_angles(np.concatenate((H1.reshape(length,1),O1.reshape(length,1),O2.reshape(length,1)),axis=1),mic=True)\n",
    "    angles2 = sn.get_angles(np.concatenate((H2.reshape(length,1),O1.reshape(length,1),O2.reshape(length,1)),axis=1),mic=True)\n",
    "    d1 = O1[np.where(angles1<HB_HOO_cutoff)]\n",
    "    a1 = O2[np.where(angles1<HB_HOO_cutoff)]\n",
    "    d2 = O1[np.where(angles2<HB_HOO_cutoff)]\n",
    "    a2 = O2[np.where(angles2<HB_HOO_cutoff)]\n",
    "    accept_DF += np.histogram((np.bincount(a1,minlength=64)+np.bincount(a2,minlength=64))[1:64],6,(0,6))[0]\n",
    "    donate_DF += np.histogram((np.bincount(d1,minlength=64)+np.bincount(d2,minlength=64))[1:64],6,(0,6))[0]\n",
    "    numaccept += len(a1)+len(a2)\n",
    "    numdonate += len(d1)+len(d2)\n",
    "    numframes += 1"
   ]
  },
  {
   "cell_type": "code",
   "execution_count": 512,
   "metadata": {},
   "outputs": [],
   "source": [
    "#calculate bonding information quantum\n",
    "#assuming ith(0-63) water is (1+i,64+i*2,65+i*2)\n",
    "HB_OO_cutoff = 3.5\n",
    "HB_HOO_cutoff = 30\n",
    "waters = np.concatenate((np.arange(1,64).reshape(63,1),np.arange(64,190,2).reshape(63,1),np.arange(65,190,2).reshape(63,1)),axis=1)\n",
    "numframes_q = 0.\n",
    "numdonate_q = 0.\n",
    "numaccept_q = 0.\n",
    "accept_DF_q,HB_edges = np.histogram([],6,(0,6))\n",
    "donate_DF_q,HB_edges = np.histogram([],6,(0,6))\n",
    "\n",
    "for beads in snap:\n",
    "    for sn in beads:\n",
    "        tmp_dist = sn.get_all_distances(mic=True)\n",
    "        #OO_cutoff\n",
    "        O1_t = np.where(tmp_dist[1:64,1:64]<HB_OO_cutoff)[0]\n",
    "        O2_t = np.where(tmp_dist[1:64,1:64]<HB_OO_cutoff)[1]\n",
    "        #avoid self angle\n",
    "        O1_t2 = O1_t[np.where(O1_t!=O2_t)]\n",
    "        O2_t2 = O2_t[np.where(O1_t!=O2_t)]\n",
    "        #O and H fit OO cutoff\n",
    "        H1 = waters[O1_t2,1]\n",
    "        H2 = waters[O1_t2,2]\n",
    "        O1 = waters[O1_t2,0]\n",
    "        O2 = waters[O2_t2,0]\n",
    "        length = len(O1)\n",
    "        #calculate angles for H1 and H2 in water O1\n",
    "        angles1 = sn.get_angles(np.concatenate((H1.reshape(length,1),O1.reshape(length,1),O2.reshape(length,1)),axis=1),mic=True)\n",
    "        angles2 = sn.get_angles(np.concatenate((H2.reshape(length,1),O1.reshape(length,1),O2.reshape(length,1)),axis=1),mic=True)\n",
    "        d1 = O1[np.where(angles1<HB_HOO_cutoff)]\n",
    "        a1 = O2[np.where(angles1<HB_HOO_cutoff)]\n",
    "        d2 = O1[np.where(angles2<HB_HOO_cutoff)]\n",
    "        a2 = O2[np.where(angles2<HB_HOO_cutoff)]\n",
    "        accept_DF_q += np.histogram((np.bincount(a1,minlength=64)+np.bincount(a2,minlength=64))[1:64],6,(0,6))[0]\n",
    "        donate_DF_q += np.histogram((np.bincount(d1,minlength=64)+np.bincount(d2,minlength=64))[1:64],6,(0,6))[0]\n",
    "        numaccept_q += len(a1)+len(a2)\n",
    "        numdonate_q += len(d1)+len(d2)\n",
    "        numframes_q += 1"
   ]
  },
  {
   "cell_type": "code",
   "execution_count": 513,
   "metadata": {},
   "outputs": [
    {
     "name": "stdout",
     "output_type": "stream",
     "text": [
      "1.7781556002682763 1.7781556002682763 3.5563112005365527\n",
      "1.6871557971014493 1.6871557971014493 3.3743115942028985\n"
     ]
    },
    {
     "data": {
      "image/png": "[encoded data removed]",
      "text/plain": [
       "<Figure size 432x288 with 1 Axes>"
      ]
     },
     "metadata": {
      "needs_background": "light"
     },
     "output_type": "display_data"
    }
   ],
   "source": [
    "plt.plot(HB_edges[:-1],accept_DF/numframes/63,label=\"A_c\")\n",
    "plt.plot(HB_edges[:-1],donate_DF/numframes/63,label=\"D_c\")\n",
    "plt.plot(HB_edges[:-1],accept_DF_q/numframes_q/63,label=\"A_q\")\n",
    "plt.plot(HB_edges[:-1],donate_DF_q/numframes_q/63,label=\"D_q\")\n",
    "plt.legend()\n",
    "print(numaccept/numframes/63,numdonate/numframes/63,numaccept/numframes/63+numdonate/numframes/63)\n",
    "print(numaccept_q/numframes_q/63,numdonate_q/numframes_q/63,numaccept_q/numframes_q/63+numdonate_q/numframes_q/63)"
   ]
  },
  {
   "cell_type": "code",
   "execution_count": 1040,
   "metadata": {},
   "outputs": [],
   "source": [
    "#calculate bonding information \n",
    "#assuming ith(0-63) water is (1+i,64+i*2,65+i*2)\n",
    "HB_OO_cutoff = 3.5\n",
    "HB_HOO_cutoff = 30\n",
    "\n",
    "waters = np.concatenate((np.arange(1,64).reshape(63,1),np.arange(64,190,2).reshape(63,1),np.arange(65,190,2).reshape(63,1)),axis=1)\n",
    "numframes_c = 0.\n",
    "num_count_c = 0.\n",
    "numdonate_first_c = 0.\n",
    "numaccept_first_c = 0.\n",
    "accept_DF_first_c,HB_edges = np.histogram([],6,(0,6))\n",
    "donate_DF_first_c,HB_edges = np.histogram([],6,(0,6))\n",
    "\n",
    "for sn in snap_c:\n",
    "    tmp_dist = sn.get_all_distances(mic=True)\n",
    "    #OO_cutoff\n",
    "    O1_t = np.where(tmp_dist[1:64,1:64]<HB_OO_cutoff)[0]\n",
    "    O2_t = np.where(tmp_dist[1:64,1:64]<HB_OO_cutoff)[1]\n",
    "    #avoid self angle\n",
    "    O1_t2 = O1_t[np.where(O1_t!=O2_t)]\n",
    "    O2_t2 = O2_t[np.where(O1_t!=O2_t)]\n",
    "    #O and H fit OO cutoff\n",
    "    H1 = waters[O1_t2,1]\n",
    "    H2 = waters[O1_t2,2]\n",
    "    O1 = waters[O1_t2,0]\n",
    "    O2 = waters[O2_t2,0]\n",
    "    length = len(O1)\n",
    "    #calculate angles for H1 and H2 in water O1\n",
    "    angles1 = sn.get_angles(np.concatenate((H1.reshape(length,1),O1.reshape(length,1),O2.reshape(length,1)),axis=1),mic=True)\n",
    "    angles2 = sn.get_angles(np.concatenate((H2.reshape(length,1),O1.reshape(length,1),O2.reshape(length,1)),axis=1),mic=True)\n",
    "    d1 = O1[np.where(angles1<HB_HOO_cutoff)]\n",
    "    a1 = O2[np.where(angles1<HB_HOO_cutoff)]\n",
    "    d2 = O1[np.where(angles2<HB_HOO_cutoff)]\n",
    "    a2 = O2[np.where(angles2<HB_HOO_cutoff)]\n",
    "    #count the H-bond within first shell\n",
    "    Os = np.where(tmp_dist[0,1:64]<3.83)[0]+1\n",
    "    a_first = (np.bincount(a1,minlength=64)+np.bincount(a2,minlength=64))[Os]\n",
    "    d_first = (np.bincount(d1,minlength=64)+np.bincount(d2,minlength=64))[Os]\n",
    "    accept_DF_first_c += np.histogram(a_first,6,(0,6))[0]\n",
    "    donate_DF_first_c += np.histogram(d_first,6,(0,6))[0]\n",
    "    numaccept_first_c += a_first.sum()\n",
    "    numdonate_first_c += d_first.sum()\n",
    "    num_count_c += Os.size\n",
    "    numframes_c += 1\n",
    "    \n",
    "#calculate bonding information quantum\n",
    "#assuming ith(0-63) water is (1+i,64+i*2,65+i*2)\n",
    "waters = np.concatenate((np.arange(1,64).reshape(63,1),np.arange(64,190,2).reshape(63,1),np.arange(65,190,2).reshape(63,1)),axis=1)\n",
    "numframes_q = 0.\n",
    "num_count_q = 0.\n",
    "numdonate_first_q = 0.\n",
    "numaccept_first_q = 0.\n",
    "accept_DF_first_q,HB_edges = np.histogram([],6,(0,6))\n",
    "donate_DF_first_q,HB_edges = np.histogram([],6,(0,6))\n",
    "\n",
    "for beads in snap:\n",
    "    for sn in beads:\n",
    "        tmp_dist = sn.get_all_distances(mic=True)\n",
    "        #OO_cutoff\n",
    "        O1_t = np.where(tmp_dist[1:64,1:64]<HB_OO_cutoff)[0]\n",
    "        O2_t = np.where(tmp_dist[1:64,1:64]<HB_OO_cutoff)[1]\n",
    "        #avoid self angle\n",
    "        O1_t2 = O1_t[np.where(O1_t!=O2_t)]\n",
    "        O2_t2 = O2_t[np.where(O1_t!=O2_t)]\n",
    "        #O and H fit OO cutoff\n",
    "        H1 = waters[O1_t2,1]\n",
    "        H2 = waters[O1_t2,2]\n",
    "        O1 = waters[O1_t2,0]\n",
    "        O2 = waters[O2_t2,0]\n",
    "        length = len(O1)\n",
    "        #calculate angles for H1 and H2 in water O1\n",
    "        angles1 = sn.get_angles(np.concatenate((H1.reshape(length,1),O1.reshape(length,1),O2.reshape(length,1)),axis=1),mic=True)\n",
    "        angles2 = sn.get_angles(np.concatenate((H2.reshape(length,1),O1.reshape(length,1),O2.reshape(length,1)),axis=1),mic=True)\n",
    "        d1 = O1[np.where(angles1<HB_HOO_cutoff)]\n",
    "        a1 = O2[np.where(angles1<HB_HOO_cutoff)]\n",
    "        d2 = O1[np.where(angles2<HB_HOO_cutoff)]\n",
    "        a2 = O2[np.where(angles2<HB_HOO_cutoff)]\n",
    "        #count the H-bond within first shell\n",
    "        Os = np.where(tmp_dist[0,1:64]<3.9)[0]+1\n",
    "        a_first = (np.bincount(a1,minlength=64)+np.bincount(a2,minlength=64))[Os]\n",
    "        d_first = (np.bincount(d1,minlength=64)+np.bincount(d2,minlength=64))[Os]\n",
    "        accept_DF_first_q += np.histogram(a_first,6,(0,6))[0]\n",
    "        donate_DF_first_q += np.histogram(d_first,6,(0,6))[0]\n",
    "        numaccept_first_q += a_first.sum()\n",
    "        numdonate_first_q += d_first.sum()\n",
    "        numframes_q += 1\n",
    "        num_count_q += Os.size\n",
    "        \n",
    "HB_first_x = HB_edges[:-1]"
   ]
  },
  {
   "cell_type": "code",
   "execution_count": 1044,
   "metadata": {},
   "outputs": [
    {
     "name": "stdout",
     "output_type": "stream",
     "text": [
      "ADA C: 1.7781556002682763 1.7781556002682763 3.5563112005365527\n",
      "ADA Q: 1.6871557971014493 1.6871557971014493 3.3743115942028985\n",
      "ADA C-first: 1.7022116986390352 1.073475331859566 2.7756870304986014\n",
      "ADA Q-first: 1.5620396744106928 1.092012638482224 2.654052312892917\n",
      "AD(include Cl) C-first: 1.7022116986390352 1.8201934057644558\n",
      "AD(include Cl) Q-first: 1.5620396744106928 1.7421814773126214\n"
     ]
    },
    {
     "data": {
      "image/png": "[encoded data removed]",
      "text/plain": [
       "<Figure size 432x288 with 1 Axes>"
      ]
     },
     "metadata": {
      "needs_background": "light"
     },
     "output_type": "display_data"
    }
   ],
   "source": [
    "plt.plot(HB_first_x,accept_DF_first_c/num_count_c,label=\"A_c\")\n",
    "plt.plot(HB_first_x,donate_DF_first_c/num_count_c,label=\"D_c\")\n",
    "plt.plot(HB_first_x,accept_DF_first_q/num_count_q,label=\"A_q\")\n",
    "plt.plot(HB_first_x,donate_DF_first_q/num_count_q,label=\"D_q\")\n",
    "plt.legend()\n",
    "print(\"ADA C:\",numaccept/numframes/63,numdonate/numframes/63,numaccept/numframes/63+numdonate/numframes/63)\n",
    "print(\"ADA Q:\",numaccept_q/numframes_q/63,numdonate_q/numframes_q/63,numaccept_q/numframes_q/63+numdonate_q/numframes_q/63)\n",
    "print(\"ADA C-first:\",numaccept_first_c/num_count_c,numdonate_first_c/num_count_c,numaccept_first_c/num_count_c+numdonate_first_c/num_count_c)\n",
    "print(\"ADA Q-first:\",numaccept_first_q/num_count_q,numdonate_first_q/num_count_q,numaccept_first_q/num_count_q+numdonate_first_q/num_count_q)\n",
    "print(\"AD(include Cl) C-first:\",numaccept_first_c/num_count_c,(numdonate_first_c+HB_Cl_count)/num_count_c)\n",
    "print(\"AD(include Cl) Q-first:\",numaccept_first_q/num_count_q,(numdonate_first_q+HB_Cl_count_q)/num_count_q)\n",
    "\n"
   ]
  },
  {
   "cell_type": "code",
   "execution_count": 1015,
   "metadata": {},
   "outputs": [],
   "source": [
    "sn = snap_c[0]"
   ]
  },
  {
   "cell_type": "code",
   "execution_count": 1032,
   "metadata": {},
   "outputs": [
    {
     "data": {
      "text/plain": [
       "11"
      ]
     },
     "execution_count": 1032,
     "metadata": {},
     "output_type": "execute_result"
    }
   ],
   "source": [
    "tmp_dist = sn.get_all_distances(mic=True)\n",
    "#OO_cutoff\n",
    "O1_t = np.where(tmp_dist[1:64,1:64]<HB_OO_cutoff)[0]\n",
    "O2_t = np.where(tmp_dist[1:64,1:64]<HB_OO_cutoff)[1]\n",
    "#avoid self angle\n",
    "O1_t2 = O1_t[np.where(O1_t!=O2_t)]\n",
    "O2_t2 = O2_t[np.where(O1_t!=O2_t)]\n",
    "#O and H fit OO cutoff\n",
    "H1 = waters[O1_t2,1]\n",
    "H2 = waters[O1_t2,2]\n",
    "O1 = waters[O1_t2,0]\n",
    "O2 = waters[O2_t2,0]\n",
    "length = len(O1)\n",
    "#calculate angles for H1 and H2 in water O1\n",
    "angles1 = sn.get_angles(np.concatenate((H1.reshape(length,1),O1.reshape(length,1),O2.reshape(length,1)),axis=1),mic=True)\n",
    "angles2 = sn.get_angles(np.concatenate((H2.reshape(length,1),O1.reshape(length,1),O2.reshape(length,1)),axis=1),mic=True)\n",
    "d1 = O1[np.where(angles1<HB_HOO_cutoff)]\n",
    "a1 = O2[np.where(angles1<HB_HOO_cutoff)]\n",
    "d2 = O1[np.where(angles2<HB_HOO_cutoff)]\n",
    "a2 = O2[np.where(angles2<HB_HOO_cutoff)]\n",
    "Os = np.where(tmp_dist[0,1:64]<3.83)[0]+1\n",
    "(np.bincount(a1,minlength=64)+np.bincount(a2,minlength=64))[Os].sum()"
   ]
  },
  {
   "cell_type": "markdown",
   "metadata": {},
   "source": [
    "# water - cl H-bond"
   ]
  },
  {
   "cell_type": "code",
   "execution_count": 962,
   "metadata": {},
   "outputs": [],
   "source": [
    "#calculate H-bond in first shell between H and Cl\n",
    "#define H-bond between Cl and water: Cl-O<3.9 H-O-Cl <30\n",
    "HB_HOCl_cutoff = 30\n",
    "HB_OCl_cutoff = 3.9\n",
    "\n",
    "cn_HB,cn_edges = np.histogram([],11,(0,11))\n",
    "numframes = 0.\n",
    "HB_Cl_count = 0 \n",
    "\n",
    "for sn in snap_c:\n",
    "    Os = range(1,64)\n",
    "    dOCl_all  = sn.get_distances(0,Os,mic=True)\n",
    "    #waters\n",
    "    Os = np.where(dOCl_all<HB_OCl_cutoff)[0]+1\n",
    "    H1s = Os*2 + 62\n",
    "    H2s = Os*2 + 63\n",
    "    length = Os.size\n",
    "    angles1 = sn.get_angles(np.insert(np.concatenate((H1s.reshape(length,1),Os.reshape(length,1)),axis=1),2,0,axis=1),mic=True)\n",
    "    angles2 = sn.get_angles(np.insert(np.concatenate((H2s.reshape(length,1),Os.reshape(length,1)),axis=1),2,0,axis=1),mic=True)\n",
    "    d1 = Os[np.where(angles1<HB_HOCl_cutoff)]\n",
    "    d2 = Os[np.where(angles2<HB_HOCl_cutoff)]\n",
    "    cn_HB += np.histogram(d1.size + d2.size,11,(0,11))[0]\n",
    "    numframes += 1\n",
    "    HB_Cl_count += d1.size + d2.size\n",
    "    \n",
    "cn_HB_x = cn_edges[:-1]\n",
    "cn_HB_c = cn_HB\n",
    "\n",
    "#calculate shift of hydration box center in snapshot with >=3 115-125 angles_q\n",
    "cn_HB_q,cn_edges = np.histogram([],11,(0,11))\n",
    "numframes_q = 0.\n",
    "HB_Cl_count_q = 0 \n",
    "\n",
    "for beads in snap:\n",
    "    for sn in beads:\n",
    "        Os = range(1,64)\n",
    "        dOCl_all  = sn.get_distances(0,Os,mic=True)\n",
    "        #waters\n",
    "        Os = np.where(dOCl_all<HB_OCl_cutoff)[0]+1\n",
    "        H1s = Os*2 + 62\n",
    "        H2s = Os*2 + 63\n",
    "        length = Os.size\n",
    "        #Cl-O-H angles\n",
    "        angles1 = sn.get_angles(np.insert(np.concatenate((H1s.reshape(length,1),Os.reshape(length,1)),axis=1),2,0,axis=1),mic=True)\n",
    "        angles2 = sn.get_angles(np.insert(np.concatenate((H2s.reshape(length,1),Os.reshape(length,1)),axis=1),2,0,axis=1),mic=True)\n",
    "        d1 = Os[np.where(angles1<HB_HOCl_cutoff)]\n",
    "        d2 = Os[np.where(angles2<HB_HOCl_cutoff)]\n",
    "        cn_HB_q += np.histogram(d1.size + d2.size,11,(0,11))[0]\n",
    "        numframes_q += 1\n",
    "        HB_Cl_count_q += d1.size + d2.size\n",
    "    "
   ]
  },
  {
   "cell_type": "code",
   "execution_count": 963,
   "metadata": {},
   "outputs": [
    {
     "name": "stdout",
     "output_type": "stream",
     "text": [
      "C-HB:  5.019154929577465\n",
      "Q-HB:  4.881548913043479\n"
     ]
    },
    {
     "data": {
      "image/png": "[encoded data removed]",
      "text/plain": [
       "<Figure size 432x288 with 1 Axes>"
      ]
     },
     "metadata": {
      "needs_background": "light"
     },
     "output_type": "display_data"
    }
   ],
   "source": [
    "plt.bar(cn_HB_x,cn_HB_c/numframes,-0.4,align='edge',label=\"c\")\n",
    "plt.bar(cn_HB_x,cn_HB_q/numframes_q,0.4,align='edge',label=\"q\")\n",
    "plt.legend()\n",
    "print(\"C-HB: \",HB_Cl_count/numframes)\n",
    "print(\"Q-HB: \",HB_Cl_count_q/numframes_q)"
   ]
  },
  {
   "cell_type": "markdown",
   "metadata": {},
   "source": [
    "## H-bonded water OClO distribution"
   ]
  },
  {
   "cell_type": "code",
   "execution_count": null,
   "metadata": {},
   "outputs": [],
   "source": [
    "#Calculate the OClO distribution of bonded O's\n",
    "#calculate H-bond in first shell between H and Cl\n",
    "#define H-bond between Cl and water: Cl-O<3.9 H-O-Cl <30\n",
    "HB_HOCl_cutoff = 30\n",
    "HB_OCl_cutoff = 3.9\n",
    "\n",
    "rdf,edges = np.histogram([],500,(0,180))\n",
    "pointscount = 0.\n",
    "\n",
    "for sn in snap_c:\n",
    "    Os = range(1,64)\n",
    "    dOCl_all  = sn.get_distances(0,Os,mic=True)\n",
    "    #waters\n",
    "    Os = np.where(dOCl_all<HB_OCl_cutoff)[0]+1\n",
    "    H1s = Os*2 + 62\n",
    "    H2s = Os*2 + 63\n",
    "    length = Os.size\n",
    "    angles1 = sn.get_angles(np.insert(np.concatenate((H1s.reshape(length,1),Os.reshape(length,1)),axis=1),2,0,axis=1),mic=True)\n",
    "    angles2 = sn.get_angles(np.insert(np.concatenate((H2s.reshape(length,1),Os.reshape(length,1)),axis=1),2,0,axis=1),mic=True)\n",
    "    d1 = Os[np.where(angles1<HB_HOCl_cutoff)]\n",
    "    d2 = Os[np.where(angles2<HB_HOCl_cutoff)]\n",
    "    angles = sn.get_angles(np.insert(np.asarray(list(itertools.combinations(np.concatenate((d1,d2)),2))),1,0,axis=1),mic=True)\n",
    "    rdf += np.histogram(angles,500,(0,180))[0]\n",
    "    pointscount += angles.size\n",
    "\n",
    "rdf.astype(np.float64)\n",
    "G_OClO_x = 0.5 * (edges[1:] + edges[:-1])\n",
    "vol = edges[1:] - edges[:-1]\n",
    "G_OClO_BH_c = rdf/pointscount/vol\n",
    "\n",
    "rdf,edges = np.histogram([],500,(0,180))\n",
    "pointscount = 0.\n",
    "\n",
    "for beads in snap:\n",
    "    for sn in beads:\n",
    "        Os = range(1,64)\n",
    "        dOCl_all  = sn.get_distances(0,Os,mic=True)\n",
    "        #waters\n",
    "        Os = np.where(dOCl_all<HB_OCl_cutoff)[0]+1\n",
    "        H1s = Os*2 + 62\n",
    "        H2s = Os*2 + 63\n",
    "        length = Os.size\n",
    "        angles1 = sn.get_angles(np.insert(np.concatenate((H1s.reshape(length,1),Os.reshape(length,1)),axis=1),2,0,axis=1),mic=True)\n",
    "        angles2 = sn.get_angles(np.insert(np.concatenate((H2s.reshape(length,1),Os.reshape(length,1)),axis=1),2,0,axis=1),mic=True)\n",
    "        d1 = Os[np.where(angles1<HB_HOCl_cutoff)]\n",
    "        d2 = Os[np.where(angles2<HB_HOCl_cutoff)]\n",
    "        if(d1.size + d2.size > 1):\n",
    "            angles = sn.get_angles(np.insert(np.asarray(list(itertools.combinations(np.concatenate((d1,d2)),2))),1,0,axis=1),mic=True)\n",
    "            rdf += np.histogram(angles,500,(0,180))[0]\n",
    "            pointscount += angles.size\n",
    "\n",
    "rdf.astype(np.float64)\n",
    "G_OClO_HB_q = rdf/pointscount/vol\n",
    "    "
   ]
  },
  {
   "cell_type": "code",
   "execution_count": 1014,
   "metadata": {},
   "outputs": [
    {
     "data": {
      "text/plain": [
       "<matplotlib.legend.Legend at 0x1a2bc29da0>"
      ]
     },
     "execution_count": 1014,
     "metadata": {},
     "output_type": "execute_result"
    },
    {
     "data": {
      "image/png": "[encoded data removed]",
      "text/plain": [
       "<Figure size 432x288 with 2 Axes>"
      ]
     },
     "metadata": {
      "needs_background": "light"
     },
     "output_type": "display_data"
    }
   ],
   "source": [
    "fig,ax = plt.subplots(1,2,sharex=True,sharey=True)\n",
    "ax[0].plot(G_OClO_x,G_OClO_BH_c,label=\"c\")\n",
    "ax[0].plot(G_OClO_x,G_OClO_HB_q,label=\"q\")\n",
    "ax[0].set_xlim(0,180)\n",
    "ax[0].set_title(\"Bonded\")\n",
    "ax[1].plot(G_OClO_x,G_ClO_c,label=\"c\")\n",
    "ax[1].plot(G_OClO_x,G_ClO_q,label=\"q\")\n",
    "ax[1].set_xlim(0,180)\n",
    "ax[1].set_title(\"All\")\n",
    "plt.legend()"
   ]
  },
  {
   "cell_type": "markdown",
   "metadata": {},
   "source": [
    "# G_OO in the first shell"
   ]
  },
  {
   "cell_type": "code",
   "execution_count": null,
   "metadata": {},
   "outputs": [],
   "source": [
    "#the rdf_OO in first shell\n",
    "rdf,edges = np.histogram([],500,(0,8))\n",
    "pointscount = 0.\n",
    "pointscounts = []\n",
    "rdfs = []\n",
    "for i in range(11):\n",
    "    rdfs.append(rdf.copy())\n",
    "    pointscounts.append(0)\n",
    "numframes = 0.\n",
    "\n",
    "\n",
    "for sn in snap_c:\n",
    "    tmp = sn.get_all_distances(mic=True)\n",
    "    Os = np.where(tmp[0,1:64]<3.83)[0]+1\n",
    "    rdf_data = tmp[Os][:,Os]\n",
    "    rdf_data = rdf_data[np.where(rdf_data!=0)]\n",
    "    numframes += 1\n",
    "    tmp_hist = np.histogram(rdf_data,500,(0,8))[0]\n",
    "    rdf += tmp_hist\n",
    "    pointscount += len(rdf_data)\n",
    "    nO = len(Os)\n",
    "    if( nO < 11):\n",
    "        rdfs[nO] += tmp_hist\n",
    "        pointscounts[nO] += len(rdf_data)\n",
    "        \n",
    "\n",
    "rdf.astype(np.float64)\n",
    "radii2 = 0.5 * (edges[1:] + edges[:-1])\n",
    "rdf_inshell = rdf/pointscount\n",
    "#rdf_inshells = np.asarray(rdfs)/np.asarray(pointscounts)\n",
    "rdf_inshells = np.asarray(rdfs)/np.asarray(pointscounts).reshape(11,1)"
   ]
  },
  {
   "cell_type": "code",
   "execution_count": 592,
   "metadata": {},
   "outputs": [
    {
     "name": "stderr",
     "output_type": "stream",
     "text": [
      "/usr/local/anaconda3/lib/python3.7/site-packages/ipykernel_launcher.py:51: RuntimeWarning: invalid value encountered in true_divide\n"
     ]
    }
   ],
   "source": [
    "#the rdf_OO in first shell\n",
    "\"\"\"\n",
    "rdf,edges = np.histogram([],500,(0,8))\n",
    "numframes = 0.\n",
    "pointscount = 0.\n",
    "\n",
    "for beads in snap:\n",
    "    for sn in beads:\n",
    "        tmp = sn.get_all_distances(mic=True)\n",
    "        Os = np.where(tmp[0,1:64]<3.9)[0]+1\n",
    "        rdf_data = tmp[Os][:,Os]\n",
    "        rdf_data = rdf_data[np.where(rdf_data!=0)]\n",
    "        numframes += 1\n",
    "        pointscount += len(rdf_data)\n",
    "        rdf+=np.histogram(rdf_data,500,(0,8))[0]\n",
    "        \n",
    "rdf.astype(np.float64)\n",
    "radii2 = 0.5 * (edges[1:] + edges[:-1])\n",
    "rdf_inshell_q = rdf/pointscount\n",
    "\"\"\"\n",
    "rdf,edges = np.histogram([],500,(0,8))\n",
    "pointscount = 0.\n",
    "pointscounts = []\n",
    "rdfs = []\n",
    "for i in range(11):\n",
    "    rdfs.append(rdf.copy())\n",
    "    pointscounts.append(0)\n",
    "numframes = 0.\n",
    "\n",
    "\n",
    "for beads in snap:\n",
    "    for sn in beads:\n",
    "        tmp = sn.get_all_distances(mic=True)\n",
    "        Os = np.where(tmp[0,1:64]<3.83)[0]+1\n",
    "        rdf_data = tmp[Os][:,Os]\n",
    "        rdf_data = rdf_data[np.where(rdf_data!=0)]\n",
    "        numframes += 1\n",
    "        tmp_hist = np.histogram(rdf_data,500,(0,8))[0]\n",
    "        rdf += tmp_hist\n",
    "        pointscount += len(rdf_data)\n",
    "        nO = len(Os)\n",
    "        if( nO < 11):\n",
    "            rdfs[nO] += tmp_hist\n",
    "            pointscounts[nO] += len(rdf_data)\n",
    "        \n",
    "\n",
    "rdf.astype(np.float64)\n",
    "radii2 = 0.5 * (edges[1:] + edges[:-1])\n",
    "rdf_inshell_q = rdf/pointscount\n",
    "#rdf_inshells = np.asarray(rdfs)/np.asarray(pointscounts)\n",
    "rdf_inshells_q = np.asarray(rdfs)/np.asarray(pointscounts).reshape(11,1)"
   ]
  },
  {
   "cell_type": "code",
   "execution_count": 585,
   "metadata": {},
   "outputs": [
    {
     "data": {
      "text/plain": [
       "<matplotlib.legend.Legend at 0x1a25026908>"
      ]
     },
     "execution_count": 585,
     "metadata": {},
     "output_type": "execute_result"
    },
    {
     "data": {
      "image/png": "[encoded data removed]",
      "text/plain": [
       "<Figure size 432x288 with 1 Axes>"
      ]
     },
     "metadata": {
      "needs_background": "light"
     },
     "output_type": "display_data"
    }
   ],
   "source": [
    "plt.ylim(0,0.01)\n",
    "plt.xlim(2,8)\n",
    "plt.plot(radii2,rdf_inshell_q,label=\"q\")\n",
    "plt.plot(radii2,rdf_inshell,label=\"c\")\n",
    "plt.legend()"
   ]
  },
  {
   "cell_type": "code",
   "execution_count": 595,
   "metadata": {},
   "outputs": [
    {
     "data": {
      "image/png": "[encoded data removed]",
      "text/plain": [
       "<Figure size 432x288 with 6 Axes>"
      ]
     },
     "metadata": {
      "needs_background": "light"
     },
     "output_type": "display_data"
    }
   ],
   "source": [
    "fig,ax = plt.subplots(2,3,sharex=True,sharey=True)\n",
    "for i in {0,1}:\n",
    "    for j in {0,1,2}: \n",
    "        ax[i,j].plot(radii2,rdf_inshells_q[5+i*3+j],label=str(5+i*3+j)+\"-q\")\n",
    "        ax[i,j].plot(radii2,rdf_inshells[5+i*3+j],label=str(5+i*3+j)+\"-c\")\n",
    "        ax[i,j].set_xlim(2,8)\n",
    "        ax[i,j].set_ylim(0,0.015)\n",
    "        ax[i,j].legend()\n"
   ]
  },
  {
   "cell_type": "code",
   "execution_count": 644,
   "metadata": {},
   "outputs": [
    {
     "name": "stderr",
     "output_type": "stream",
     "text": [
      "/usr/local/anaconda3/lib/python3.7/site-packages/ipykernel_launcher.py:29: RuntimeWarning: invalid value encountered in true_divide\n"
     ]
    }
   ],
   "source": [
    "#calculate shift of hydration box center\n",
    "rdf,edges = np.histogram([],200,(0,2))\n",
    "numframes = 0.\n",
    "pointscounts = []\n",
    "rdfs = []\n",
    "for i in range(11):\n",
    "    rdfs.append(rdf.copy())\n",
    "    pointscounts.append(0)\n",
    "\n",
    "for sn in snap_c:\n",
    "    Os = range(1,64)\n",
    "    tmp = sn.get_distances(0,Os,mic=True)\n",
    "    Os = np.where(tmp<3.8)[0]+1\n",
    "    dis = sn.get_distances(0,Os,mic=True,vector=True)\n",
    "    tmp_hist = np.histogram(np.linalg.norm(dis.mean(axis=0)),200,(0,2))[0]\n",
    "    rdf+=tmp_hist\n",
    "    numframes += 1\n",
    "    nO = len(Os)\n",
    "    if(nO < 11):\n",
    "        rdfs[nO]+=tmp_hist\n",
    "        pointscounts[nO] += 1\n",
    "    \n",
    "\n",
    "rdf.astype(np.float64)\n",
    "radii = 0.5 * (edges[1:] + edges[:-1])\n",
    "vol = edges[1:] - edges[:-1]\n",
    "# normalization to the average density n/boxvolume in the simulation\n",
    "center_shift = rdf/numframes/vol\n",
    "center_shifts = np.asarray(rdfs)/np.asarray(pointscounts).reshape(11,1)/vol"
   ]
  },
  {
   "cell_type": "code",
   "execution_count": 648,
   "metadata": {},
   "outputs": [
    {
     "name": "stderr",
     "output_type": "stream",
     "text": [
      "/usr/local/anaconda3/lib/python3.7/site-packages/ipykernel_launcher.py:28: RuntimeWarning: invalid value encountered in true_divide\n"
     ]
    }
   ],
   "source": [
    "rdf,edges = np.histogram([],200,(0,2))\n",
    "numframes = 0.\n",
    "pointscounts = []\n",
    "rdfs = []\n",
    "for i in range(11):\n",
    "    rdfs.append(rdf.copy())\n",
    "    pointscounts.append(0)\n",
    "\n",
    "for beads in snap:\n",
    "    for sn in beads:\n",
    "        Os = range(1,64)\n",
    "        tmp = sn.get_distances(0,Os,mic=True)\n",
    "        Os = np.where(tmp<3.8)[0]+1\n",
    "        dis = sn.get_distances(0,Os,mic=True,vector=True)\n",
    "        tmp_hist = np.histogram(np.linalg.norm(dis.mean(axis=0)),200,(0,2))[0]\n",
    "        rdf+=tmp_hist\n",
    "        numframes += 1\n",
    "        nO = len(Os)\n",
    "        if(nO < 11):\n",
    "            rdfs[nO]+=tmp_hist\n",
    "            pointscounts[nO] += 1\n",
    "\n",
    "rdf.astype(np.float64)\n",
    "radii = 0.5 * (edges[1:] + edges[:-1])\n",
    "vol = edges[1:] - edges[:-1]\n",
    "# normalization to the average density n/boxvolume in the simulation\n",
    "center_shift_q = rdf/numframes/vol\n",
    "center_shifts_q = np.asarray(rdfs)/np.asarray(pointscounts).reshape(11,1)/vol"
   ]
  },
  {
   "cell_type": "code",
   "execution_count": 649,
   "metadata": {},
   "outputs": [
    {
     "data": {
      "text/plain": [
       "<matplotlib.legend.Legend at 0x1a247987f0>"
      ]
     },
     "execution_count": 649,
     "metadata": {},
     "output_type": "execute_result"
    },
    {
     "data": {
      "image/png": "[encoded data removed]",
      "text/plain": [
       "<Figure size 432x288 with 1 Axes>"
      ]
     },
     "metadata": {
      "needs_background": "light"
     },
     "output_type": "display_data"
    }
   ],
   "source": [
    "plt.plot(radii,center_shift_q,label=\"q\")\n",
    "plt.plot(radii,center_shift,label=\"c\")\n",
    "plt.legend()\n"
   ]
  },
  {
   "cell_type": "code",
   "execution_count": 652,
   "metadata": {},
   "outputs": [
    {
     "data": {
      "image/png": "[encoded data removed]",
      "text/plain": [
       "<Figure size 432x288 with 6 Axes>"
      ]
     },
     "metadata": {
      "needs_background": "light"
     },
     "output_type": "display_data"
    }
   ],
   "source": [
    "fig,ax = plt.subplots(2,3,sharex=True,sharey=True)\n",
    "for i in {0,1}:\n",
    "    for j in {0,1,2}: \n",
    "        ax[i,j].plot(radii,center_shifts_q[5+i*3+j],label=str(5+i*3+j)+\"-q\")\n",
    "        ax[i,j].plot(radii,center_shifts[5+i*3+j],label=str(5+i*3+j)+\"-c\")\n",
    "        ax[i,j].set_xlim(0,2)\n",
    "        ax[i,j].set_ylim(0,3)\n",
    "        ax[i,j].legend()\n"
   ]
  },
  {
   "cell_type": "markdown",
   "metadata": {},
   "source": [
    "# Angles"
   ]
  },
  {
   "cell_type": "markdown",
   "metadata": {},
   "source": [
    "## number of anlges within (115,125)"
   ]
  },
  {
   "cell_type": "code",
   "execution_count": 834,
   "metadata": {},
   "outputs": [],
   "source": [
    "#calculate number of anlges within (115,125)\n",
    "rdf,edges = np.histogram([],10,(0,10))\n",
    "numframes = 0.\n",
    "\n",
    "for sn in snap_c:\n",
    "    Os = range(1,64)\n",
    "    tmp = sn.get_distances(0,Os,mic=True)\n",
    "    Os = np.where(tmp<3.83)[0]+1\n",
    "    angles = sn.get_angles(np.insert(np.asarray(list(itertools.combinations(Os,2))),1,0,axis=1),mic=True)\n",
    "    tmp_angle = angles[np.where(angles<125)]\n",
    "    rdf+=np.histogram(len(np.where(tmp_angle>115)[0]),10,(0,10))[0]\n",
    "    numframes+=1\n",
    "\n",
    "rdf.astype(np.float64)\n",
    "radii =edges[:-1]\n",
    "vol = edges[1:] - edges[:-1]\n",
    "# normalization to the average density n/boxvolume in the simulation\n",
    "angle_df = rdf"
   ]
  },
  {
   "cell_type": "code",
   "execution_count": 835,
   "metadata": {},
   "outputs": [],
   "source": [
    "#calculate number of anlges within (115,125)_q\n",
    "rdf,edges = np.histogram([],10,(0,10))\n",
    "numframes = 0.\n",
    "\n",
    "for beads in snap:\n",
    "    for sn in beads:\n",
    "        Os = range(1,64)\n",
    "        tmp = sn.get_distances(0,Os,mic=True)\n",
    "        Os = np.where(tmp<3.9)[0]+1\n",
    "        angles = sn.get_angles(np.insert(np.asarray(list(itertools.combinations(Os,2))),1,0,axis=1),mic=True)\n",
    "        tmp_angle = angles[np.where(angles<125)]\n",
    "        rdf+=np.histogram(len(np.where(tmp_angle>115)[0]),10,(0,10))[0]\n",
    "        numframes+=1\n",
    "\n",
    "rdf.astype(np.float64)\n",
    "radii =edges[:-1]\n",
    "vol = edges[1:] - edges[:-1]\n",
    "# normalization to the average density n/boxvolume in the simulation\n",
    "angle_df_q = rdf"
   ]
  },
  {
   "cell_type": "code",
   "execution_count": 836,
   "metadata": {},
   "outputs": [
    {
     "data": {
      "text/plain": [
       "<matplotlib.legend.Legend at 0x1a28147a20>"
      ]
     },
     "execution_count": 836,
     "metadata": {},
     "output_type": "execute_result"
    },
    {
     "data": {
      "image/png": "[encoded data removed]",
      "text/plain": [
       "<Figure size 432x288 with 1 Axes>"
      ]
     },
     "metadata": {
      "needs_background": "light"
     },
     "output_type": "display_data"
    }
   ],
   "source": [
    "plt.bar(radii,angle_df_q,0.4,align='edge',label=\"q\")\n",
    "plt.bar(radii,angle_df,-0.4,align='edge',label=\"c\")\n",
    "plt.legend()"
   ]
  },
  {
   "cell_type": "markdown",
   "metadata": {},
   "source": [
    "## find snapshot with 6 115-125 angles"
   ]
  },
  {
   "cell_type": "code",
   "execution_count": 867,
   "metadata": {},
   "outputs": [],
   "source": [
    "#find snapshot with 6 115-125 angles\n",
    "numframes=0\n",
    "label = set()\n",
    "\n",
    "for sn in snap_c:\n",
    "    Os = range(1,64)\n",
    "    tmp = sn.get_distances(0,Os,mic=True)\n",
    "    Os = np.where(tmp<3.83)[0]+1\n",
    "    angles = sn.get_angles(np.insert(np.asarray(list(itertools.combinations(Os,2))),1,0,axis=1),mic=True)\n",
    "    tmp_angle = angles[angles<125]\n",
    "    if(len(tmp_angle[tmp_angle>115])>=6):\n",
    "        label.add(numframes)\n",
    "    numframes+=1"
   ]
  },
  {
   "cell_type": "code",
   "execution_count": 868,
   "metadata": {},
   "outputs": [],
   "source": [
    "mark = list(label)\n",
    "mark.sort()\n",
    "for ss in np.split(mark,np.where(np.diff(mark)!=1)[0]+1):\n",
    "    tmp = snap_c[ss[0]].copy()\n",
    "    tmp.wrap(test.get_scaled_positions()[0])\n",
    "    tmp.write(str(ss[0])+\".xyz\")"
   ]
  },
  {
   "cell_type": "code",
   "execution_count": 882,
   "metadata": {},
   "outputs": [
    {
     "name": "stdout",
     "output_type": "stream",
     "text": [
      "[[ 4 15]\n",
      " [ 4 24]\n",
      " [ 4 31]\n",
      " [14 24]\n",
      " [15 24]\n",
      " [24 58]]\n",
      "[[3.6787256  3.33892689]\n",
      " [3.6787256  3.22377521]\n",
      " [3.6787256  3.50601295]\n",
      " [3.48544286 3.22377521]\n",
      " [3.33892689 3.22377521]\n",
      " [3.22377521 3.57722772]]\n"
     ]
    }
   ],
   "source": [
    "sn = snap_c[121]\n",
    "Os = range(1,64)\n",
    "tmp = sn.get_distances(0,Os,mic=True)\n",
    "Os = np.where(tmp<3.83)[0]+1\n",
    "angles_input = np.insert(np.asarray(list(itertools.combinations(Os,2))),1,0,axis=1)\n",
    "angles = sn.get_angles(angles_input,mic=True)\n",
    "print(angles_input[(angles<125)&(angles>115),0:3:2])\n",
    "print(tmp[angles_input[(angles<125)&(angles>115),0:3:2]-1])"
   ]
  },
  {
   "cell_type": "markdown",
   "metadata": {},
   "source": [
    "## shift of hydration shell center and CN in snapshot with 4 115-125 angles"
   ]
  },
  {
   "cell_type": "code",
   "execution_count": 755,
   "metadata": {},
   "outputs": [],
   "source": [
    "#calculate shift of hydration box center in snapshot with 4 115-125 angles\n",
    "import itertools\n",
    "rdf,edges = np.histogram([],200,(0,2))\n",
    "cn,cn_edges = np.histogram([],11,(0,11))\n",
    "numframes = 0.\n",
    "\n",
    "for sn in snap_c:\n",
    "    Os = range(1,64)\n",
    "    tmp = sn.get_distances(0,Os,mic=True)\n",
    "    Os = np.where(tmp<3.83)[0]+1\n",
    "    angles = sn.get_angles(np.insert(np.asarray(list(itertools.combinations(Os,2))),1,0,axis=1),mic=True)\n",
    "    tmp_angle = angles[angles<125]\n",
    "    if(len(tmp_angle[tmp_angle>115])>=4):\n",
    "        dis = sn.get_distances(0,Os,mic=True,vector=True)\n",
    "        rdf += np.histogram(np.linalg.norm(dis.mean(axis=0)),200,(0,2))[0]\n",
    "        cn += np.histogram(len(Os),11,(0,11))[0]\n",
    "        numframes += 1\n",
    "    \n",
    "\n",
    "rdf.astype(np.float64)\n",
    "radii = 0.5 * (edges[1:] + edges[:-1])\n",
    "cn_radii = cn_edges[:-1]\n",
    "vol = edges[1:] - edges[:-1]\n",
    "a_center_shift = rdf/numframes/vol\n"
   ]
  },
  {
   "cell_type": "code",
   "execution_count": 756,
   "metadata": {},
   "outputs": [],
   "source": [
    "#calculate shift of hydration box center in snapshot with 4 115-125 angles_q\n",
    "rdf,edges = np.histogram([],200,(0,2))\n",
    "cn_q,cn_edges = np.histogram([],11,(0,11))\n",
    "numframes = 0.\n",
    "\n",
    "\n",
    "for beads in snap:\n",
    "    for sn in beads:\n",
    "        Os = range(1,64)\n",
    "        tmp = sn.get_distances(0,Os,mic=True)\n",
    "        Os = np.where(tmp<3.9)[0]+1\n",
    "        angles = sn.get_angles(np.insert(np.asarray(list(itertools.combinations(Os,2))),1,0,axis=1),mic=True)\n",
    "        tmp_angle = angles[angles<125]\n",
    "        if(len(tmp_angle[tmp_angle>115])==4):\n",
    "            dis = sn.get_distances(0,Os,mic=True,vector=True)\n",
    "            rdf += np.histogram(np.linalg.norm(dis.mean(axis=0)),200,(0,2))[0]\n",
    "            cn_q += np.histogram(len(Os),11,(0,11))[0]\n",
    "            numframes += 1\n",
    "    \n",
    "\n",
    "rdf.astype(np.float64)\n",
    "radii = 0.5 * (edges[1:] + edges[:-1])\n",
    "cn_radii = cn_edges[:-1]\n",
    "vol = edges[1:] - edges[:-1]\n",
    "a_center_shift_q = rdf/numframes/vol"
   ]
  },
  {
   "cell_type": "code",
   "execution_count": 837,
   "metadata": {},
   "outputs": [],
   "source": [
    "#calculate shift of hydration box center in snapshot with >=3 115-125 angles\n",
    "rdf,edges = np.histogram([],200,(0,2))\n",
    "cn_angle_3,cn_edges = np.histogram([],11,(0,11))\n",
    "numframes = 0.\n",
    "\n",
    "for sn in snap_c:\n",
    "    Os = range(1,64)\n",
    "    tmp = sn.get_distances(0,Os,mic=True)\n",
    "    Os = np.where(tmp<3.83)[0]+1\n",
    "    angles = sn.get_angles(np.insert(np.asarray(list(itertools.combinations(Os,2))),1,0,axis=1),mic=True)\n",
    "    tmp_angle = angles[angles<125]\n",
    "    if(len(tmp_angle[tmp_angle>115])>=3):\n",
    "        dis = sn.get_distances(0,Os,mic=True,vector=True)\n",
    "        rdf += np.histogram(np.linalg.norm(dis.mean(axis=0)),200,(0,2))[0]\n",
    "        cn_angle_3 += np.histogram(len(Os),11,(0,11))[0]\n",
    "        numframes += 1\n",
    "    \n",
    "\n",
    "rdf.astype(np.float64)\n",
    "radii = 0.5 * (edges[1:] + edges[:-1])\n",
    "cn_radii = cn_edges[:-1]\n",
    "vol = edges[1:] - edges[:-1]\n",
    "a_center_shift = rdf/numframes/vol\n",
    "\n",
    "#calculate shift of hydration box center in snapshot with >=3 115-125 angles_q\n",
    "rdf,edges = np.histogram([],200,(0,2))\n",
    "cn_angle_3_q,cn_edges = np.histogram([],11,(0,11))\n",
    "numframes = 0.\n",
    "\n",
    "for beads in snap:\n",
    "    for sn in beads:\n",
    "        Os = range(1,64)\n",
    "        tmp = sn.get_distances(0,Os,mic=True)\n",
    "        Os = np.where(tmp<3.9)[0]+1\n",
    "        angles = sn.get_angles(np.insert(np.asarray(list(itertools.combinations(Os,2))),1,0,axis=1),mic=True)\n",
    "        tmp_angle = angles[angles<125]\n",
    "        if(len(tmp_angle[tmp_angle>115])>=3):\n",
    "            dis = sn.get_distances(0,Os,mic=True,vector=True)\n",
    "            rdf += np.histogram(np.linalg.norm(dis.mean(axis=0)),200,(0,2))[0]\n",
    "            cn_angle_3_q += np.histogram(len(Os),11,(0,11))[0]\n",
    "            numframes += 1\n",
    "    \n",
    "\n",
    "rdf.astype(np.float64)\n",
    "radii = 0.5 * (edges[1:] + edges[:-1])\n",
    "cn_radii = cn_edges[:-1]\n",
    "vol = edges[1:] - edges[:-1]\n",
    "a_center_shift_q = rdf/numframes/vol"
   ]
  },
  {
   "cell_type": "code",
   "execution_count": 838,
   "metadata": {},
   "outputs": [
    {
     "data": {
      "text/plain": [
       "<BarContainer object of 11 artists>"
      ]
     },
     "execution_count": 838,
     "metadata": {},
     "output_type": "execute_result"
    },
    {
     "data": {
      "image/png": "[encoded data removed]",
      "text/plain": [
       "<Figure size 432x288 with 4 Axes>"
      ]
     },
     "metadata": {
      "needs_background": "light"
     },
     "output_type": "display_data"
    }
   ],
   "source": [
    "fig,ax = plt.subplots(2,2)\n",
    "ax[1,0].plot(radii,a_center_shift)\n",
    "ax[1,1].bar(cn_radii,cn_angle_3)\n",
    "ax[0,0].plot(radii,a_center_shift_q)\n",
    "ax[0,1].bar(cn_radii,cn_angle_3_q)"
   ]
  },
  {
   "cell_type": "code",
   "execution_count": 842,
   "metadata": {},
   "outputs": [
    {
     "name": "stderr",
     "output_type": "stream",
     "text": [
      "/usr/local/anaconda3/lib/python3.7/site-packages/ipykernel_launcher.py:1: RuntimeWarning: invalid value encountered in true_divide\n",
      "  \"\"\"Entry point for launching an IPython kernel.\n",
      "/usr/local/anaconda3/lib/python3.7/site-packages/ipykernel_launcher.py:2: RuntimeWarning: invalid value encountered in true_divide\n",
      "  \n"
     ]
    },
    {
     "data": {
      "text/plain": [
       "<matplotlib.legend.Legend at 0x1a27b3aa90>"
      ]
     },
     "execution_count": 842,
     "metadata": {},
     "output_type": "execute_result"
    },
    {
     "data": {
      "image/png": "[encoded data removed]",
      "text/plain": [
       "<Figure size 432x288 with 1 Axes>"
      ]
     },
     "metadata": {
      "needs_background": "light"
     },
     "output_type": "display_data"
    }
   ],
   "source": [
    "plt.bar(cn_radii,cn_angle_3_q/pure_cn_q,0.4,align='edge',label=\"q\")\n",
    "plt.bar(cn_radii,cn_angle_3/pure_cn,-0.4,align='edge',label=\"c\")\n",
    "plt.legend()"
   ]
  },
  {
   "cell_type": "code",
   "execution_count": 843,
   "metadata": {},
   "outputs": [],
   "source": [
    "#calculate shift of hydration box center in snapshot with >=2 115-125 angles\n",
    "rdf,edges = np.histogram([],200,(0,2))\n",
    "cn_angle_2,cn_edges = np.histogram([],11,(0,11))\n",
    "numframes = 0.\n",
    "\n",
    "for sn in snap_c:\n",
    "    Os = range(1,64)\n",
    "    tmp = sn.get_distances(0,Os,mic=True)\n",
    "    Os = np.where(tmp<3.83)[0]+1\n",
    "    angles = sn.get_angles(np.insert(np.asarray(list(itertools.combinations(Os,2))),1,0,axis=1),mic=True)\n",
    "    tmp_angle = angles[angles<125]\n",
    "    if(len(tmp_angle[tmp_angle>115])>=2):\n",
    "        dis = sn.get_distances(0,Os,mic=True,vector=True)\n",
    "        rdf += np.histogram(np.linalg.norm(dis.mean(axis=0)),200,(0,2))[0]\n",
    "        cn_angle_2 += np.histogram(len(Os),11,(0,11))[0]\n",
    "        numframes += 1\n",
    "    \n",
    "\n",
    "rdf.astype(np.float64)\n",
    "radii = 0.5 * (edges[1:] + edges[:-1])\n",
    "cn_radii = cn_edges[:-1]\n",
    "vol = edges[1:] - edges[:-1]\n",
    "a_center_shift_2 = rdf/numframes/vol\n",
    "\n",
    "#calculate shift of hydration box center in snapshot with >=2 115-125 angles_q\n",
    "rdf,edges = np.histogram([],200,(0,2))\n",
    "cn_angle_2_q,cn_edges = np.histogram([],11,(0,11))\n",
    "numframes = 0.\n",
    "\n",
    "for beads in snap:\n",
    "    for sn in beads:\n",
    "        Os = range(1,64)\n",
    "        tmp = sn.get_distances(0,Os,mic=True)\n",
    "        Os = np.where(tmp<3.9)[0]+1\n",
    "        angles = sn.get_angles(np.insert(np.asarray(list(itertools.combinations(Os,2))),1,0,axis=1),mic=True)\n",
    "        tmp_angle = angles[angles<125]\n",
    "        if(len(tmp_angle[tmp_angle>115])>=2):\n",
    "            dis = sn.get_distances(0,Os,mic=True,vector=True)\n",
    "            rdf += np.histogram(np.linalg.norm(dis.mean(axis=0)),200,(0,2))[0]\n",
    "            cn_angle_2_q += np.histogram(len(Os),11,(0,11))[0]\n",
    "            numframes += 1\n",
    "    \n",
    "\n",
    "rdf.astype(np.float64)\n",
    "radii = 0.5 * (edges[1:] + edges[:-1])\n",
    "cn_radii = cn_edges[:-1]\n",
    "vol = edges[1:] - edges[:-1]\n",
    "a_center_shift_2_q = rdf/numframes/vol"
   ]
  },
  {
   "cell_type": "code",
   "execution_count": 844,
   "metadata": {},
   "outputs": [
    {
     "data": {
      "text/plain": [
       "<BarContainer object of 11 artists>"
      ]
     },
     "execution_count": 844,
     "metadata": {},
     "output_type": "execute_result"
    },
    {
     "data": {
      "image/png": "[encoded data removed]",
      "text/plain": [
       "<Figure size 432x288 with 4 Axes>"
      ]
     },
     "metadata": {
      "needs_background": "light"
     },
     "output_type": "display_data"
    }
   ],
   "source": [
    "fig,ax = plt.subplots(2,2)\n",
    "ax[1,0].plot(radii,a_center_shift_2)\n",
    "ax[1,1].bar(cn_radii,cn_angle_2)\n",
    "ax[0,0].plot(radii,a_center_shift_2_q)\n",
    "ax[0,1].bar(cn_radii,cn_angle_2_q)"
   ]
  },
  {
   "cell_type": "code",
   "execution_count": 900,
   "metadata": {},
   "outputs": [
    {
     "name": "stderr",
     "output_type": "stream",
     "text": [
      "/usr/local/anaconda3/lib/python3.7/site-packages/ipykernel_launcher.py:1: RuntimeWarning: invalid value encountered in true_divide\n",
      "  \"\"\"Entry point for launching an IPython kernel.\n",
      "/usr/local/anaconda3/lib/python3.7/site-packages/ipykernel_launcher.py:2: RuntimeWarning: invalid value encountered in true_divide\n",
      "  \n"
     ]
    },
    {
     "data": {
      "text/plain": [
       "<matplotlib.legend.Legend at 0x1a2352aef0>"
      ]
     },
     "execution_count": 900,
     "metadata": {},
     "output_type": "execute_result"
    },
    {
     "data": {
      "image/png": "[encoded data removed]",
      "text/plain": [
       "<Figure size 432x288 with 1 Axes>"
      ]
     },
     "metadata": {
      "needs_background": "light"
     },
     "output_type": "display_data"
    }
   ],
   "source": [
    "plt.bar(cn_radii,cn_angle_2_q/pure_cn_q,0.4,align='edge',label=\"q\")\n",
    "plt.bar(cn_radii,cn_angle_2/pure_cn,-0.4,align='edge',label=\"c\")\n",
    "plt.legend()"
   ]
  },
  {
   "cell_type": "markdown",
   "metadata": {},
   "source": [
    "## angle relation between OCl"
   ]
  },
  {
   "cell_type": "code",
   "execution_count": 845,
   "metadata": {},
   "outputs": [],
   "source": [
    "df,edges = np.histogram([],100,(0,4))\n",
    "pointscount = 0\n",
    "\n",
    "for sn in snap_c:\n",
    "    Os = range(1,64)\n",
    "    tmp = sn.get_distances(0,Os,mic=True)\n",
    "    Os = np.where(tmp<3.83)[0]+1\n",
    "    angles_input = np.insert(np.asarray(list(itertools.combinations(Os,2))),1,0,axis=1)\n",
    "    angles = sn.get_angles(angles_input,mic=True)\n",
    "    result = tmp[angles_input[(angles<125)&(angles>115),0:3:2]-1]\n",
    "    df += np.histogram(result,100,(0,4))[0]\n",
    "    pointscount += result.size\n",
    "\n",
    "vol = edges[1:] - edges[:-1]\n",
    "D_angle_OCl_x = 0.5 * (edges[1:] + edges[:-1])\n",
    "D_angle_OCl= df/pointscount/vol\n",
    "\n",
    "df,edges = np.histogram([],100,(0,4))\n",
    "pointscount = 0\n",
    "for beads in snap:\n",
    "    for sn in beads:\n",
    "        Os = range(1,64)\n",
    "        tmp = sn.get_distances(0,Os,mic=True)\n",
    "        Os = np.where(tmp<3.9)[0]+1\n",
    "        angles_input = np.insert(np.asarray(list(itertools.combinations(Os,2))),1,0,axis=1)\n",
    "        angles = sn.get_angles(angles_input,mic=True)\n",
    "        result = tmp[angles_input[(angles<125)&(angles>115),0:3:2]-1]\n",
    "        df += np.histogram(result,100,(0,4))[0]\n",
    "        pointscount += result.size\n",
    "        \n",
    "vol = edges[1:] - edges[:-1]\n",
    "D_angle_OCl_x = 0.5 * (edges[1:] + edges[:-1])\n",
    "D_angle_OCl_q = df/pointscount/vol"
   ]
  },
  {
   "cell_type": "code",
   "execution_count": 846,
   "metadata": {},
   "outputs": [
    {
     "data": {
      "text/plain": [
       "<matplotlib.legend.Legend at 0x1a24640320>"
      ]
     },
     "execution_count": 846,
     "metadata": {},
     "output_type": "execute_result"
    },
    {
     "data": {
      "image/png": "[encoded data removed]",
      "text/plain": [
       "<Figure size 432x288 with 1 Axes>"
      ]
     },
     "metadata": {
      "needs_background": "light"
     },
     "output_type": "display_data"
    }
   ],
   "source": [
    "plt.plot(D_angle_OCl_x,D_angle_OCl,label=\"c\")\n",
    "plt.plot(D_angle_OCl_x,D_angle_OCl_q,label=\"q\")\n",
    "plt.legend()\n",
    "#plt.plot(G_ClO_x,G_ClO_c)\n",
    "#plt.plot(G_ClO_x,G_ClO_q)"
   ]
  },
  {
   "cell_type": "markdown",
   "metadata": {},
   "source": [
    "## Angle relation between OO distance"
   ]
  },
  {
   "cell_type": "code",
   "execution_count": null,
   "metadata": {},
   "outputs": [],
   "source": [
    "df,edges = np.histogram([],100,(0,4))\n",
    "pointscount = 0\n",
    "\n",
    "for sn in snap_c:\n",
    "    Os = range(1,64)\n",
    "    tmp = sn.get_distances(0,Os,mic=True)\n",
    "    Os = np.where(tmp<3.83)[0]+1\n",
    "    angles_input = np.insert(np.asarray(list(itertools.combinations(Os,2))),1,0,axis=1)\n",
    "    angles = sn.get_angles(angles_input,mic=True)\n",
    "    result = tmp[angles_input[(angles<125)&(angles>115),0:3:2]-1]\n",
    "    df += np.histogram(result,100,(0,4))[0]\n",
    "    pointscount += result.size\n",
    "\n",
    "vol = edges[1:] - edges[:-1]\n",
    "D_angle_OCl_x = 0.5 * (edges[1:] + edges[:-1])\n",
    "D_angle_OCl= df/pointscount/vol\n",
    "\n",
    "df,edges = np.histogram([],100,(0,4))\n",
    "pointscount = 0\n",
    "for beads in snap:\n",
    "    for sn in beads:\n",
    "        Os = range(1,64)\n",
    "        tmp = sn.get_distances(0,Os,mic=True)\n",
    "        Os = np.where(tmp<3.9)[0]+1\n",
    "        angles_input = np.insert(np.asarray(list(itertools.combinations(Os,2))),1,0,axis=1)\n",
    "        angles = sn.get_angles(angles_input,mic=True)\n",
    "        result = tmp[angles_input[(angles<125)&(angles>115),0:3:2]-1]\n",
    "        df += np.histogram(result,100,(0,4))[0]\n",
    "        pointscount += result.size\n",
    "        \n",
    "vol = edges[1:] - edges[:-1]\n",
    "D_angle_OCl_x = 0.5 * (edges[1:] + edges[:-1])\n",
    "D_angle_OCl_q = df/pointscount/vol"
   ]
  },
  {
   "cell_type": "code",
   "execution_count": 862,
   "metadata": {},
   "outputs": [],
   "source": [
    "sn = snap_c[1471]"
   ]
  },
  {
   "cell_type": "code",
   "execution_count": null,
   "metadata": {},
   "outputs": [],
   "source": []
  },
  {
   "cell_type": "code",
   "execution_count": 863,
   "metadata": {},
   "outputs": [
    {
     "data": {
      "text/plain": [
       "array([[42, 55]])"
      ]
     },
     "execution_count": 863,
     "metadata": {},
     "output_type": "execute_result"
    }
   ],
   "source": [
    "sn = snap_c[1471]\n",
    "Os = range(1,64)\n",
    "tmp = sn.get_distances(0,Os,mic=True)\n",
    "Os = np.where(tmp<3.8)[0]+1\n",
    "angles_input = np.insert(np.asarray(list(itertools.combinations(Os,2))),1,0,axis=1)\n",
    "angles = sn.get_angles(angles_input,mic=True)\n",
    "angles_input[(angles<125)&(angles>115),0:3:2]-1"
   ]
  },
  {
   "cell_type": "markdown",
   "metadata": {},
   "source": [
    "# Coordination Number"
   ]
  },
  {
   "cell_type": "code",
   "execution_count": 840,
   "metadata": {},
   "outputs": [],
   "source": [
    "#calculate cn\n",
    "pure_cn,cn_edges = np.histogram([],11,(0,11))\n",
    "numframes = 0.\n",
    "\n",
    "for sn in snap_c:\n",
    "    Os = range(1,64)\n",
    "    tmp = sn.get_distances(0,Os,mic=True)\n",
    "    Os = np.where(tmp<3.83)[0]+1\n",
    "    pure_cn += np.histogram(len(Os),11,(0,11))[0]\n",
    "    numframes += 1\n",
    "    \n",
    "cn_radii = cn_edges[:-1]\n",
    "\n",
    "\n",
    "#calculate shift of hydration box center in snapshot with >=3 115-125 angles_q\n",
    "pure_cn_q,cn_edges = np.histogram([],11,(0,11))\n",
    "numframes_q = 0.\n",
    "\n",
    "for beads in snap:\n",
    "    for sn in beads:\n",
    "        Os = range(1,64)\n",
    "        tmp = sn.get_distances(0,Os,mic=True)\n",
    "        Os = np.where(tmp<3.9)[0]+1\n",
    "        pure_cn_q += np.histogram(len(Os),11,(0,11))[0]\n",
    "        numframes_q += 1\n",
    "    \n",
    "cn_radii = cn_edges[:-1]"
   ]
  },
  {
   "cell_type": "code",
   "execution_count": 841,
   "metadata": {},
   "outputs": [
    {
     "data": {
      "text/plain": [
       "<matplotlib.legend.Legend at 0x1a261dcf60>"
      ]
     },
     "execution_count": 841,
     "metadata": {},
     "output_type": "execute_result"
    },
    {
     "data": {
      "image/png": "[encoded data removed]",
      "text/plain": [
       "<Figure size 432x288 with 1 Axes>"
      ]
     },
     "metadata": {
      "needs_background": "light"
     },
     "output_type": "display_data"
    }
   ],
   "source": [
    "plt.bar(cn_radii,pure_cn_q/numframes_q,0.4,align='edge',label=\"q\")\n",
    "plt.bar(cn_radii,pure_cn/numframes,-0.4,align='edge',label=\"c\")\n",
    "plt.legend()"
   ]
  },
  {
   "cell_type": "code",
   "execution_count": 697,
   "metadata": {},
   "outputs": [
    {
     "name": "stdout",
     "output_type": "stream",
     "text": [
      "Help on function bar in module matplotlib.pyplot:\n",
      "\n",
      "bar(x, height, width=0.8, bottom=None, *, align='center', data=None, **kwargs)\n",
      "    Make a bar plot.\n",
      "    \n",
      "    The bars are positioned at *x* with the given *align*\\ment. Their\n",
      "    dimensions are given by *width* and *height*. The vertical baseline\n",
      "    is *bottom* (default 0).\n",
      "    \n",
      "    Each of *x*, *height*, *width*, and *bottom* may either be a scalar\n",
      "    applying to all bars, or it may be a sequence of length N providing a\n",
      "    separate value for each bar.\n",
      "    \n",
      "    Parameters\n",
      "    ----------\n",
      "    x : sequence of scalars\n",
      "        The x coordinates of the bars. See also *align* for the\n",
      "        alignment of the bars to the coordinates.\n",
      "    \n",
      "    height : scalar or sequence of scalars\n",
      "        The height(s) of the bars.\n",
      "    \n",
      "    width : scalar or array-like, optional\n",
      "        The width(s) of the bars (default: 0.8).\n",
      "    \n",
      "    bottom : scalar or array-like, optional\n",
      "        The y coordinate(s) of the bars bases (default: 0).\n",
      "    \n",
      "    align : {'center', 'edge'}, optional, default: 'center'\n",
      "        Alignment of the bars to the *x* coordinates:\n",
      "    \n",
      "        - 'center': Center the base on the *x* positions.\n",
      "        - 'edge': Align the left edges of the bars with the *x* positions.\n",
      "    \n",
      "        To align the bars on the right edge pass a negative *width* and\n",
      "        ``align='edge'``.\n",
      "    \n",
      "    Returns\n",
      "    -------\n",
      "    container : `.BarContainer`\n",
      "        Container with all the bars and optionally errorbars.\n",
      "    \n",
      "    Other Parameters\n",
      "    ----------------\n",
      "    color : scalar or array-like, optional\n",
      "        The colors of the bar faces.\n",
      "    \n",
      "    edgecolor : scalar or array-like, optional\n",
      "        The colors of the bar edges.\n",
      "    \n",
      "    linewidth : scalar or array-like, optional\n",
      "        Width of the bar edge(s). If 0, don't draw edges.\n",
      "    \n",
      "    tick_label : string or array-like, optional\n",
      "        The tick labels of the bars.\n",
      "        Default: None (Use default numeric labels.)\n",
      "    \n",
      "    xerr, yerr : scalar or array-like of shape(N,) or shape(2,N), optional\n",
      "        If not *None*, add horizontal / vertical errorbars to the bar tips.\n",
      "        The values are +/- sizes relative to the data:\n",
      "    \n",
      "        - scalar: symmetric +/- values for all bars\n",
      "        - shape(N,): symmetric +/- values for each bar\n",
      "        - shape(2,N): Separate - and + values for each bar. First row\n",
      "            contains the lower errors, the second row contains the\n",
      "            upper errors.\n",
      "        - *None*: No errorbar. (Default)\n",
      "    \n",
      "        See :doc:`/gallery/statistics/errorbar_features`\n",
      "        for an example on the usage of ``xerr`` and ``yerr``.\n",
      "    \n",
      "    ecolor : scalar or array-like, optional, default: 'black'\n",
      "        The line color of the errorbars.\n",
      "    \n",
      "    capsize : scalar, optional\n",
      "       The length of the error bar caps in points.\n",
      "       Default: None, which will take the value from\n",
      "       :rc:`errorbar.capsize`.\n",
      "    \n",
      "    error_kw : dict, optional\n",
      "        Dictionary of kwargs to be passed to the `~.Axes.errorbar`\n",
      "        method. Values of *ecolor* or *capsize* defined here take\n",
      "        precedence over the independent kwargs.\n",
      "    \n",
      "    log : bool, optional, default: False\n",
      "        If *True*, set the y-axis to be log scale.\n",
      "    \n",
      "    orientation : {'vertical',  'horizontal'}, optional\n",
      "        *This is for internal use only.* Please use `barh` for\n",
      "        horizontal bar plots. Default: 'vertical'.\n",
      "    \n",
      "    See also\n",
      "    --------\n",
      "    barh: Plot a horizontal bar plot.\n",
      "    \n",
      "    Notes\n",
      "    -----\n",
      "    The optional arguments *color*, *edgecolor*, *linewidth*,\n",
      "    *xerr*, and *yerr* can be either scalars or sequences of\n",
      "    length equal to the number of bars.  This enables you to use\n",
      "    bar as the basis for stacked bar charts, or candlestick plots.\n",
      "    Detail: *xerr* and *yerr* are passed directly to\n",
      "    :meth:`errorbar`, so they can also have shape 2xN for\n",
      "    independent specification of lower and upper errors.\n",
      "    \n",
      "    Other optional kwargs:\n",
      "    \n",
      "      agg_filter: a filter function, which takes a (m, n, 3) float array and a dpi value, and returns a (m, n, 3) array \n",
      "      alpha: float or None\n",
      "      animated: bool\n",
      "      antialiased: unknown\n",
      "      capstyle: {'butt', 'round', 'projecting'}\n",
      "      clip_box: `.Bbox`\n",
      "      clip_on: bool\n",
      "      clip_path: [(`~matplotlib.path.Path`, `.Transform`) | `.Patch` | None] \n",
      "      color: color\n",
      "      contains: callable\n",
      "      edgecolor: color or None or 'auto'\n",
      "      facecolor: color or None\n",
      "      figure: `.Figure`\n",
      "      fill: bool\n",
      "      gid: str\n",
      "      hatch: {'/', '\\\\', '|', '-', '+', 'x', 'o', 'O', '.', '*'}\n",
      "      in_layout: bool\n",
      "      joinstyle: {'miter', 'round', 'bevel'}\n",
      "      label: object\n",
      "      linestyle: {'-', '--', '-.', ':', '', (offset, on-off-seq), ...}\n",
      "      linewidth: float or None for default \n",
      "      path_effects: `.AbstractPathEffect`\n",
      "      picker: None or bool or float or callable\n",
      "      rasterized: bool or None\n",
      "      sketch_params: (scale: float, length: float, randomness: float) \n",
      "      snap: bool or None\n",
      "      transform: `.Transform`\n",
      "      url: str\n",
      "      visible: bool\n",
      "      zorder: float\n",
      "    \n",
      "    .. note::\n",
      "        In addition to the above described arguments, this function can take a\n",
      "        **data** keyword argument. If such a **data** argument is given, the\n",
      "        following arguments are replaced by **data[<arg>]**:\n",
      "    \n",
      "        * All arguments with the following names: 'bottom', 'color', 'ecolor', 'edgecolor', 'height', 'left', 'linewidth', 'tick_label', 'width', 'x', 'xerr', 'y', 'yerr'.\n",
      "        * All positional arguments.\n",
      "    \n",
      "        Objects passed as **data** must support item access (``data[<arg>]``) and\n",
      "        membership test (``<arg> in data``).\n",
      "\n"
     ]
    }
   ],
   "source": [
    "help(plt.bar)"
   ]
  },
  {
   "cell_type": "code",
   "execution_count": null,
   "metadata": {},
   "outputs": [],
   "source": []
  },
  {
   "cell_type": "code",
   "execution_count": null,
   "metadata": {
    "scrolled": true
   },
   "outputs": [],
   "source": [
    "\"\"\"atomic_number = test.get_atomic_numbers()\n",
    "nO = np.where(atomic_number==8)[0]\n",
    "nH = np.where(atomic_number==1)[0]\n",
    "#len(np.where(test.get_all_distances()[nO][:,np.concatenate((nO,nH),axis=1)]<1.26))\n",
    "#\n",
    "#np.ix_(nO,nH)\n",
    "#np.where(test.get_distances(1,nH,mic=True)<1.26)\n",
    "#np.where(test.get_all_distances(mic=True)[nO][:,np.concatenate((nO,nH))]<1.26)[1].reshape(63,3)\n",
    "nH[np.where(test.get_all_distances(mic=True)[nO][:,nH]<1.26)[1]]#[1].reshape(63,3)\n",
    "\"\"\""
   ]
  },
  {
   "cell_type": "code",
   "execution_count": null,
   "metadata": {
    "scrolled": true
   },
   "outputs": [],
   "source": [
    "\"\"\"def get_water(atoms):\n",
    "    \"return 2d numpy.ndarray of O H H\"\n",
    "    OH_cutoff = 1.26\n",
    "    atomic_number = atoms.get_atomic_numbers()\n",
    "    nO = np.where(atomic_number==8)[0]\n",
    "    nH = np.where(atomic_number==1)[0]\n",
    "    \"\"\"\n",
    "\"\"\"\n",
    "    atomic_distance = atoms.get_all_distances(mic=True)[nO][:,np.concatenate((nO,nH))]\n",
    "    selected_atoms = np.where(atomic_distance<OH_cutoff)\n",
    "    if(len(selected_atoms[1]) != len(nO)*3):\n",
    "        selected_atoms2 = np.zeros([len(nO),3],np.int_)\n",
    "        for i in range(0,len(nO)):\n",
    "            if(len(np.where(selected_atoms[0]==i)[0])!=3):\n",
    "                #print(selected_atoms[1][np.where(selected_atoms[0]==i)])\n",
    "                selected_atoms2[i] = np.where(atomic_distance<OH_cutoff )\n",
    "            else:\n",
    "                selected_atoms2[i] = selected_atoms[1][np.where(selected_atoms[0]==i)]\n",
    "        return selected_atoms2\n",
    "    return selected_atoms[1].reshape(len(nO),3)\n",
    "    \"\"\""
   ]
  },
  {
   "cell_type": "code",
   "execution_count": null,
   "metadata": {},
   "outputs": [],
   "source": [
    "\"\"\"\n",
    "class water:\n",
    "    def __init__(self,atoms=None,OH_cutoff=None):\n",
    "        if(OH_cutoff==None):\n",
    "            self.OH_cutoff=1.26\n",
    "        else:\n",
    "            self.OH_cutoff=OH_cutoff\n",
    "        if(atoms==None):\n",
    "            pass\n",
    "        else:\n",
    "            self.get_waters(atoms)\n",
    "    \n",
    "    def get_waters(self,atoms):\n",
    "        atomic_number = atoms.get_atomic_numbers()\n",
    "        nO = np.where(atomic_number==8)[0]\n",
    "        nH = np.where(atomic_number==1)[0]\n",
    "        self.array = nO\n",
    "        \n",
    "    \"\"\"\n"
   ]
  },
  {
   "cell_type": "code",
   "execution_count": null,
   "metadata": {
    "scrolled": false
   },
   "outputs": [],
   "source": [
    "\"\"\"\n",
    "def donate_HB(sn,water1,water2):\n",
    "        detect if water1's H donate to water2\n",
    "    global HB_OO_cutoff,HB_HOO_cutoff\n",
    "    if(0.1<sn.get_distance(water1[0],water2[0],mic=True)<HB_OO_cutoff):\n",
    "        if(sn.get_angle(water1[1],water1[0],water2[0],mic=True)<HB_HOO_cutoff):\n",
    "            return True\n",
    "        if(sn.get_angle(water1[2],water1[0],water2[0],mic=True)<HB_HOO_cutoff):\n",
    "            return True\n",
    "        return False\n",
    "    \n",
    "for sn in snap_c:\n",
    "    ss_HB_a = np.zeros(63)\n",
    "    ss_HB_d = np.zeros(63)\n",
    "    sn.get_distance\n",
    "    for water1 in waters:\n",
    "        for water2 in waters:\n",
    "            if(donate_HB(sn,water1,water2)):\n",
    "                ss_HB_a[water2[0]-1] += 1\n",
    "                ss_HB_d[water1[0]-1] += 1\n",
    "    accept_DF += np.histogram(ss_HB_a,6,(0,6))[0]\n",
    "    donate_DF += np.histogram(ss_HB_d,6,(0,6))[0]\n",
    "    numaccept += ss_HB_a.mean()\n",
    "    numdonate += ss_HB_d.mean()\n",
    "    numframes += 1\n",
    "    print(numframes)\n",
    "\"\"\""
   ]
  },
  {
   "cell_type": "code",
   "execution_count": null,
   "metadata": {
    "scrolled": true
   },
   "outputs": [],
   "source": []
  }
 ],
 "metadata": {
  "kernelspec": {
   "display_name": "Python 3",
   "language": "python",
   "name": "python3"
  },
  "language_info": {
   "codemirror_mode": {
    "name": "ipython",
    "version": 3
   },
   "file_extension": ".py",
   "mimetype": "text/x-python",
   "name": "python",
   "nbconvert_exporter": "python",
   "pygments_lexer": "ipython3",
   "version": "3.7.3"
  }
 },
 "nbformat": 4,
 "nbformat_minor": 2
}
